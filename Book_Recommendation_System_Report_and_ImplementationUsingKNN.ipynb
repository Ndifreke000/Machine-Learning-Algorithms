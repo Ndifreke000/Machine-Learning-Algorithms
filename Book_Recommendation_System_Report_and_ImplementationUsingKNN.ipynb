{
  "cells": [
    {
      "cell_type": "markdown",
      "metadata": {
        "id": "view-in-github",
        "colab_type": "text"
      },
      "source": [
        "<a href=\"https://colab.research.google.com/github/Ndifreke000/Machine-Learning-Algorithms/blob/main/Book_Recommendation_System_Report_and_ImplementationUsingKNN.ipynb\" target=\"_parent\"><img src=\"https://colab.research.google.com/assets/colab-badge.svg\" alt=\"Open In Colab\"/></a>"
      ]
    },
    {
      "cell_type": "code",
      "execution_count": 1,
      "metadata": {
        "id": "Y1onB6kUvo4Z"
      },
      "outputs": [],
      "source": [
        "# import libraries (you may add additional imports but you may not have to)\n",
        "import numpy as np\n",
        "import pandas as pd\n",
        "from scipy.sparse import csr_matrix\n",
        "from sklearn.neighbors import NearestNeighbors\n",
        "import matplotlib.pyplot as plt"
      ]
    },
    {
      "cell_type": "code",
      "execution_count": 2,
      "metadata": {
        "id": "iAQGqqO_vo4d",
        "outputId": "a78f100b-1e64-4404-cad8-c5a69650f782",
        "colab": {
          "base_uri": "https://localhost:8080/"
        }
      },
      "outputs": [
        {
          "output_type": "stream",
          "name": "stdout",
          "text": [
            "--2023-10-05 13:28:37--  https://cdn.freecodecamp.org/project-data/books/book-crossings.zip\n",
            "Resolving cdn.freecodecamp.org (cdn.freecodecamp.org)... 104.26.2.33, 104.26.3.33, 172.67.70.149, ...\n",
            "Connecting to cdn.freecodecamp.org (cdn.freecodecamp.org)|104.26.2.33|:443... connected.\n",
            "HTTP request sent, awaiting response... 200 OK\n",
            "Length: 26085508 (25M) [application/zip]\n",
            "Saving to: ‘book-crossings.zip’\n",
            "\n",
            "book-crossings.zip  100%[===================>]  24.88M  76.1MB/s    in 0.3s    \n",
            "\n",
            "2023-10-05 13:28:38 (76.1 MB/s) - ‘book-crossings.zip’ saved [26085508/26085508]\n",
            "\n",
            "Archive:  book-crossings.zip\n",
            "  inflating: BX-Book-Ratings.csv     \n",
            "  inflating: BX-Books.csv            \n",
            "  inflating: BX-Users.csv            \n"
          ]
        }
      ],
      "source": [
        "# get data files\n",
        "!wget https://cdn.freecodecamp.org/project-data/books/book-crossings.zip\n",
        "\n",
        "!unzip book-crossings.zip\n",
        "\n",
        "books_filename = 'BX-Books.csv'\n",
        "ratings_filename = 'BX-Book-Ratings.csv'"
      ]
    },
    {
      "cell_type": "code",
      "execution_count": 3,
      "metadata": {
        "id": "NClILWOiEd6Q"
      },
      "outputs": [],
      "source": [
        "# import csv data into dataframes\n",
        "df_books = pd.read_csv(\n",
        "    books_filename,\n",
        "    encoding = \"ISO-8859-1\",\n",
        "    sep=\";\",\n",
        "    header=0,\n",
        "    names=['isbn', 'title', 'author'],\n",
        "    usecols=['isbn', 'title', 'author'],\n",
        "    dtype={'isbn': 'str', 'title': 'str', 'author': 'str'})\n",
        "\n",
        "df_ratings = pd.read_csv(\n",
        "    ratings_filename,\n",
        "    encoding = \"ISO-8859-1\",\n",
        "    sep=\";\",\n",
        "    header=0,\n",
        "    names=['user', 'isbn', 'rating'],\n",
        "    usecols=['user', 'isbn', 'rating'],\n",
        "    dtype={'user': 'int32', 'isbn': 'str', 'rating': 'float32'})"
      ]
    },
    {
      "cell_type": "code",
      "execution_count": 7,
      "metadata": {
        "id": "xAcXjkCFCh0A",
        "outputId": "cb14a39f-8320-4b99-d95e-467e4d2165a3",
        "colab": {
          "base_uri": "https://localhost:8080/",
          "height": 36
        }
      },
      "outputs": [
        {
          "output_type": "execute_result",
          "data": {
            "text/plain": [
              "\"Book with title 'The Queen of the Damned (Vampire Chronicles (Paperback))' not found.\""
            ],
            "application/vnd.google.colaboratory.intrinsic+json": {
              "type": "string"
            }
          },
          "metadata": {},
          "execution_count": 7
        }
      ],
      "source": [
        "import pandas as pd\n",
        "from sklearn.neighbors import NearestNeighbors\n",
        "from scipy.sparse import csr_matrix\n",
        "\n",
        "# Load the data\n",
        "books = pd.read_csv('https://raw.githubusercontent.com/zygmuntz/goodbooks-10k/master/books.csv')\n",
        "ratings = pd.read_csv('https://raw.githubusercontent.com/zygmuntz/goodbooks-10k/master/ratings.csv')\n",
        "\n",
        "# Data cleaning and filtering\n",
        "user_counts = ratings['user_id'].value_counts()\n",
        "book_counts = ratings['book_id'].value_counts()\n",
        "\n",
        "# Filter users with at least 200 ratings and books with at least 100 ratings\n",
        "filtered_users = user_counts[user_counts >= 200].index\n",
        "filtered_books = book_counts[book_counts >= 100].index\n",
        "\n",
        "filtered_ratings = ratings[(ratings['user_id'].isin(filtered_users)) & (ratings['book_id'].isin(filtered_books))]\n",
        "\n",
        "# Create a pivot table for Nearest Neighbors\n",
        "pivot_table = pd.pivot_table(filtered_ratings, values='rating', index='user_id', columns='book_id', fill_value=0)\n",
        "\n",
        "# Convert the pivot table to a sparse matrix\n",
        "sparse_matrix = csr_matrix(pivot_table.values)\n",
        "\n",
        "# Fit the Nearest Neighbors model\n",
        "model_knn = NearestNeighbors(metric='cosine', algorithm='brute', n_neighbors=6)\n",
        "model_knn.fit(sparse_matrix)\n",
        "\n",
        "# Function to get book recommendations\n",
        "def get_recommends(book_title):\n",
        "    # Find the book_id for the given title\n",
        "    book_info = books[books['title'] == book_title]\n",
        "\n",
        "    if book_info.empty:\n",
        "        return f\"Book with title '{book_title}' not found.\"\n",
        "\n",
        "    book_id = book_info['book_id'].values[0]\n",
        "\n",
        "    # Get the index of the book in the sparse matrix\n",
        "    book_index = pivot_table.columns.get_loc(book_id)\n",
        "\n",
        "    # Get the distances and indices of the nearest neighbors\n",
        "    distances, indices = model_knn.kneighbors(pivot_table.iloc[:, book_index].values.reshape(1, -1), n_neighbors=6)\n",
        "\n",
        "    # Create a list of recommended books with distances\n",
        "    recommended_books = []\n",
        "    for i in range(1, len(distances.flatten())):\n",
        "        book_id = pivot_table.columns[indices.flatten()[i]]\n",
        "        book_title = books[books['book_id'] == book_id]['title'].values[0]\n",
        "        distance = distances.flatten()[i]\n",
        "        recommended_books.append([book_title, distance])\n",
        "\n",
        "    return [book_title, recommended_books]\n",
        "\n",
        "# Testing the function\n",
        "get_recommends(\"The Queen of the Damned (Vampire Chronicles (Paperback))\")\n"
      ]
    },
    {
      "cell_type": "code",
      "execution_count": 8,
      "metadata": {
        "id": "f5ZUd-L1SQz7"
      },
      "outputs": [],
      "source": [
        "# function to return recommended books - this will be tested\n",
        "def get_recommends(book = \"\"):\n",
        "\n",
        "\n",
        "  return recommended_books"
      ]
    },
    {
      "cell_type": "code",
      "source": [
        "def get_recommends(book_title):\n",
        "    # Find the book_id for the given title\n",
        "    book_match = books[books['title'] == book_title]\n",
        "\n",
        "    if book_match.empty:\n",
        "        return f\"Book '{book_title}' not found in the dataset.\"\n",
        "\n",
        "    book_id = book_match['book_id'].values[0]\n",
        "\n",
        "    # Get the index of the book in the sparse matrix\n",
        "    book_index = pivot_table.columns.get_loc(book_id)\n",
        "\n",
        "    # Get the distances and indices of the nearest neighbors\n",
        "    distances, indices = model_knn.kneighbors(pivot_table.iloc[:, book_index].values.reshape(1, -1), n_neighbors=6)\n",
        "\n",
        "    # Create a list of recommended books with distances\n",
        "    recommended_books = []\n",
        "    for i in range(1, len(distances.flatten())):\n",
        "        book_id = pivot_table.columns[indices.flatten()[i]]\n",
        "        book_title = books[books['book_id'] == book_id]['title'].values[0]\n",
        "        distance = distances.flatten()[i]\n",
        "        recommended_books.append([book_title, distance])\n",
        "\n",
        "    return [book_title, recommended_books]\n",
        "\n",
        "# Testing the function\n",
        "books = get_recommends(\"Where the Heart Is (Oprah's Book Club (Paperback))\")\n",
        "print(books)\n"
      ],
      "metadata": {
        "id": "cQXGCuJ7hd1K",
        "outputId": "1a5c163b-4a65-4c2a-9959-ecf26a68d507",
        "colab": {
          "base_uri": "https://localhost:8080/"
        }
      },
      "execution_count": 9,
      "outputs": [
        {
          "output_type": "stream",
          "name": "stdout",
          "text": [
            "Book 'Where the Heart Is (Oprah's Book Club (Paperback))' not found in the dataset.\n"
          ]
        }
      ]
    }
  ],
  "metadata": {
    "colab": {
      "provenance": [],
      "include_colab_link": true
    },
    "kernelspec": {
      "display_name": "Python 3",
      "language": "python",
      "name": "python3"
    },
    "language_info": {
      "codemirror_mode": {
        "name": "ipython",
        "version": 3
      },
      "file_extension": ".py",
      "mimetype": "text/x-python",
      "name": "python",
      "nbconvert_exporter": "python",
      "pygments_lexer": "ipython3",
      "version": "3.6.5"
    }
  },
  "nbformat": 4,
  "nbformat_minor": 0
}